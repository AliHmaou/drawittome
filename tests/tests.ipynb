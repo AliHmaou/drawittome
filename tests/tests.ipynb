{
 "cells": [
  {
   "cell_type": "code",
   "execution_count": 57,
   "metadata": {},
   "outputs": [],
   "source": [
    "import zlib\n",
    "import base64\n",
    "import duckdb as ddb\n",
    "import ast\n"
   ]
  },
  {
   "cell_type": "code",
   "execution_count": 30,
   "metadata": {},
   "outputs": [
    {
     "data": {
      "text/plain": [
       "<duckdb.duckdb.DuckDBPyConnection at 0x10f62f7f0>"
      ]
     },
     "execution_count": 30,
     "metadata": {},
     "output_type": "execute_result"
    }
   ],
   "source": [
    "ddb.connect(\"../data/memory.duckdb\")\n",
    "ddb.execute(\"INSTALL FLOCKMTL FROM community\")\n",
    "ddb.execute(\"LOAD FLOCKMTL\")"
   ]
  },
  {
   "cell_type": "code",
   "execution_count": null,
   "metadata": {},
   "outputs": [
    {
     "data": {
      "text/plain": [
       "<duckdb.duckdb.DuckDBPyConnection at 0x10f62f7f0>"
      ]
     },
     "execution_count": 112,
     "metadata": {},
     "output_type": "execute_result"
    }
   ],
   "source": [
    "ddb.execute(\"\"\"DROP SECRET groq\"\"\")\n",
    "ddb.execute(\"\"\"\n",
    "                CREATE SECRET groq (\n",
    "                    TYPE OPENAI,\n",
    "                    BASE_URL 'https://api.groq.com/openai/v1/',\n",
    "                    API_KEY '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'\n",
    "                );  \n",
    "                \"\"\")\n",
    "\n",
    "ddb.sql(\"\"\"DELETE MODEL 'mermaid_generator';\"\"\")\n",
    "ddb.execute(\"\"\"\n",
    "                CREATE MODEL(\n",
    "                    'mermaid_generator',\n",
    "                    'qwen-2.5-coder-32b',\n",
    "                    'openai',\n",
    "                    {\"context_window\": 128000, \"max_output_tokens\": 32000}\n",
    "                );  \n",
    "                \"\"\")\n",
    "\n",
    "ddb.execute(\"\"\"DELETE PROMPT 'mermaid_generator_prompt';\"\"\")\n",
    "ddb.execute(\"\"\"\n",
    "                CREATE PROMPT('mermaid_generator_prompt', 'Génère le code mermaid, et rien que le code dans le champ json \"mermaid_code\", expliquant le mieux la description qui suit, et avec un effort d originalité. Fais en sorte que les noms des entités mermaid soient concis et évite les caractères qui feraient bugger le script mermaid. Dans le champ mermaid_diag_type tu vas indiquer le type de diagramme le plus adapté que tu as choisi ou que l utilisateur t a demandé.')\n",
    "                \"\"\")"
   ]
  },
  {
   "cell_type": "markdown",
   "metadata": {},
   "source": [
    "ddb.sql(\"\"\"GET MODELS;\"\"\")"
   ]
  },
  {
   "cell_type": "markdown",
   "metadata": {},
   "source": [
    "ddb.sql(\"\"\"FROM duckdb_secrets();\"\"\")"
   ]
  },
  {
   "cell_type": "markdown",
   "metadata": {},
   "source": [
    "ddb.sql(\"\"\"GET PROMPTS;\"\"\")"
   ]
  },
  {
   "cell_type": "code",
   "execution_count": 113,
   "metadata": {},
   "outputs": [],
   "source": [
    "input_text=\"\"\"\n",
    "\n",
    "Le syndicat élabore et tient à jour un plan régional de transport, qui définit les services de transports publics de personnes réguliers et à la demande, les services de transport scolaire et les services de transport fluvial régulier de personnes qu'il organise en application des articles L. 1241-1 et L. 1241-2.\n",
    "\n",
    "Le syndicat inscrit chacun de ces services au plan régional de transport en précisant sa consistance. La conclusion d'un contrat de service public pour l'exploitation de services de transports publics de voyageurs mentionnés à l'article L. 1241-1 vaut inscription au plan régional de transport.\n",
    "\n",
    "Les décisions de modification ou de suppression des services inscrits au plan suivent le même régime. Pour les services de transport de voyageurs mentionnés à l'article L. 1241-1 faisant l'objet d'un contrat de service public conclu après le 3 décembre 2009, la fin du contrat vaut suppression de l'inscription au plan régional de transport.\n",
    "\n",
    "Le syndicat peut déléguer l'inscription au plan régional de transport aux autorités mentionnées à l'article R. 1241-38. Celles-ci mettent à jour le plan régional de transport conformément aux dispositions de l'article R. 1241-39.\n",
    "\n",
    "Le syndicat s'assure de la cohérence et veille à la coordination de l'ensemble des services inscrits au plan régional de transport.\n",
    "\n",
    "\"\"\"\n",
    "\n",
    "query = \"\"\"\n",
    "with llm_result as (\n",
    "    select \n",
    "    llm_complete_json(\n",
    "        {'model_name': 'mermaid_generator','secret_name': 'groq' }, \n",
    "        {'prompt_name': 'mermaid_generator_prompt', 'version': 1}, \n",
    "        {'prompt_input': ?}\n",
    "    )::json AS json_result\n",
    ") \n",
    "select json_result.mermaid_code, json_result.mermaid_diag_type from llm_result\n",
    "\"\"\"\n",
    "\n",
    "res = ddb.execute(query, [input_text]).fetchdf()"
   ]
  },
  {
   "cell_type": "code",
   "execution_count": 114,
   "metadata": {},
   "outputs": [
    {
     "data": {
      "text/html": [
       "<div>\n",
       "<style scoped>\n",
       "    .dataframe tbody tr th:only-of-type {\n",
       "        vertical-align: middle;\n",
       "    }\n",
       "\n",
       "    .dataframe tbody tr th {\n",
       "        vertical-align: top;\n",
       "    }\n",
       "\n",
       "    .dataframe thead th {\n",
       "        text-align: right;\n",
       "    }\n",
       "</style>\n",
       "<table border=\"1\" class=\"dataframe\">\n",
       "  <thead>\n",
       "    <tr style=\"text-align: right;\">\n",
       "      <th></th>\n",
       "      <th>mermaid_code</th>\n",
       "      <th>mermaid_diag_type</th>\n",
       "    </tr>\n",
       "  </thead>\n",
       "  <tbody>\n",
       "    <tr>\n",
       "      <th>0</th>\n",
       "      <td>\"graph TD;\\nA[Syndicat] --&gt; B[Plan Régional de...</td>\n",
       "      <td>\"Diagramme de flux\"</td>\n",
       "    </tr>\n",
       "  </tbody>\n",
       "</table>\n",
       "</div>"
      ],
      "text/plain": [
       "                                        mermaid_code    mermaid_diag_type\n",
       "0  \"graph TD;\\nA[Syndicat] --> B[Plan Régional de...  \"Diagramme de flux\""
      ]
     },
     "execution_count": 114,
     "metadata": {},
     "output_type": "execute_result"
    }
   ],
   "source": [
    "res"
   ]
  },
  {
   "cell_type": "code",
   "execution_count": 115,
   "metadata": {},
   "outputs": [],
   "source": [
    "mermaid_code = ast.literal_eval(res[\"mermaid_code\"][0])\n",
    "mermaid_type = ast.literal_eval(res[\"mermaid_diag_type\"][0])\n"
   ]
  },
  {
   "cell_type": "code",
   "execution_count": 110,
   "metadata": {},
   "outputs": [],
   "source": [
    "def kroki_url_from_mermaid(mermaid_code: str, output_format: str = \"svg\") -> str:\n",
    "    compressed = zlib.compress(mermaid_code.encode('utf-8'))\n",
    "    b64 = base64.urlsafe_b64encode(compressed).decode('utf-8')\n",
    "    return f\"https://kroki.io/mermaid/{output_format}/{b64}\""
   ]
  },
  {
   "cell_type": "code",
   "execution_count": 116,
   "metadata": {},
   "outputs": [
    {
     "data": {
      "text/plain": [
       "'https://kroki.io/mermaid/svg/eJx1z0sKwjAQBuC9p8jOlScQBG191AcU6y50EZPYDoQkTFLBI_UcvZhpbAsK7kLy5Z_5K2S2Jrd0OVvT4qUFcOZLslisyIbmimly7doKjGaKCEluyLSzBn25nG2iSmgh8Qlcuq93kjd3BdxNLv3jCm4UA5QT3P6BO9U8gangdjQx2iPzPRjwMG_YPJSJhz1Nu5aDC_vHtIsR8OgbhotyRIcfVDTWonTuYzK6brxB8F3rpvRj_0XJKgYRMc-04wg2xkaTjeGnsGvdtSh12FGETmO5afw5CIMC9BD2Zd7_a41h'"
      ]
     },
     "execution_count": 116,
     "metadata": {},
     "output_type": "execute_result"
    }
   ],
   "source": [
    "kroki_url_from_mermaid(mermaid_code)"
   ]
  }
 ],
 "metadata": {
  "kernelspec": {
   "display_name": ".venv",
   "language": "python",
   "name": "python3"
  },
  "language_info": {
   "codemirror_mode": {
    "name": "ipython",
    "version": 3
   },
   "file_extension": ".py",
   "mimetype": "text/x-python",
   "name": "python",
   "nbconvert_exporter": "python",
   "pygments_lexer": "ipython3",
   "version": "3.13.0"
  }
 },
 "nbformat": 4,
 "nbformat_minor": 2
}
